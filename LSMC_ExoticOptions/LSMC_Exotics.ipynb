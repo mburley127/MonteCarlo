{
 "cells": [
  {
   "cell_type": "code",
   "execution_count": 37,
   "metadata": {},
   "outputs": [],
   "source": [
    "### Library Imports\n",
    "import numpy as np\n",
    "import pandas as pd\n",
    "import yfinance as yf\n",
    "import matplotlib.pyplot as plt\n",
    "import seaborn as sns\n",
    "from scipy.stats import norm\n",
    "import warnings\n",
    "warnings.filterwarnings(\"ignore\")\n"
   ]
  },
  {
   "cell_type": "code",
   "execution_count": 38,
   "metadata": {},
   "outputs": [
    {
     "name": "stderr",
     "output_type": "stream",
     "text": [
      "[*********************100%%**********************]  1 of 1 completed"
     ]
    },
    {
     "name": "stdout",
     "output_type": "stream",
     "text": [
      "                  ^GSPC\n",
      "Date                   \n",
      "2023-12-22  4754.629883\n",
      "2023-12-26  4774.750000\n",
      "2023-12-27  4781.580078\n",
      "2023-12-28  4783.350098\n",
      "2023-12-29  4769.830078\n",
      "The most recent stock price is:  4769.8301\n"
     ]
    },
    {
     "name": "stderr",
     "output_type": "stream",
     "text": [
      "\n"
     ]
    }
   ],
   "source": [
    "### Import S&P500 Data\n",
    "def get_data(tickers, start_date, end_date):\n",
    "    data = pd.DataFrame()\n",
    "    for ticker in tickers:\n",
    "        data[ticker] = yf.download(ticker, start_date, end_date)['Adj Close']\n",
    "    \n",
    "    return data\n",
    "\n",
    "### Return Stock Data\n",
    "tickers = ['^GSPC']  # Ticker symbol for the S&P 500\n",
    "start_date = '2019-01-01'\n",
    "end_date = '2024-01-01'\n",
    "stock_data = get_data(tickers, start_date, end_date)\n",
    "print(stock_data.tail())\n",
    "\n",
    "# Get most recent stock price\n",
    "s_0 = stock_data['^GSPC'].iloc[-1]\n",
    "print('The most recent stock price is: ', round(s_0, 4))"
   ]
  },
  {
   "cell_type": "code",
   "execution_count": 39,
   "metadata": {},
   "outputs": [
    {
     "name": "stdout",
     "output_type": "stream",
     "text": [
      "The computed option strike price is: 5008.3216\n",
      "The computed sigma is:  0.2132\n"
     ]
    }
   ],
   "source": [
    "### Set input parameters\n",
    "# Option parameters\n",
    "T = 1.0          # Time to maturity (in years)\n",
    "r = 0.05         # Risk-free rate\n",
    "n_simulations = 100  # Number of simulations\n",
    "n_steps = 252    # Number of time steps (252 trading days in a year)\n",
    "dt = T / n_steps # Time increment\n",
    "\n",
    "# Determine strike price\n",
    "k = s_0 * 1.05 # lookback_call or barrier_call (5% increase over current stock price (bullish))\n",
    "print('The computed option strike price is:', round(k, 4))\n",
    "\n",
    "# Compute Sigma - stddev * sqrt(252)\n",
    "daily_rets = stock_data.pct_change().dropna()\n",
    "#print(daily_rets.tail())\n",
    "sigma = daily_rets['^GSPC'].std() * np.sqrt(252)\n",
    "print('The computed sigma is: ', round(sigma, 4))\n"
   ]
  },
  {
   "cell_type": "code",
   "execution_count": 45,
   "metadata": {},
   "outputs": [
    {
     "data": {
      "text/plain": [
       "array([[4769.83007812, 4769.83007812, 4769.83007812, ..., 4769.83007812,\n",
       "        4769.83007812, 4769.83007812],\n",
       "       [4802.28080547, 4761.49477969, 4812.0295101 , ..., 4787.1033202 ,\n",
       "        4770.67385691, 4755.33808976],\n",
       "       [4712.35251134, 4735.17906264, 4790.44652734, ..., 4797.51750484,\n",
       "        4774.92204592, 4683.39412001],\n",
       "       ...,\n",
       "       [5471.13762873, 3287.74121318, 5481.30060949, ..., 7412.58327109,\n",
       "        5067.99353048, 4420.37242654],\n",
       "       [5484.30304668, 3288.63828982, 5450.23721276, ..., 7593.78728786,\n",
       "        5009.4969682 , 4387.961909  ],\n",
       "       [5505.91471601, 3277.7012869 , 5443.50705641, ..., 7586.1239106 ,\n",
       "        4923.22448021, 4375.63239956]])"
      ]
     },
     "execution_count": 45,
     "metadata": {},
     "output_type": "execute_result"
    }
   ],
   "source": [
    "### Simulate Price Paths\n",
    "def price_paths(S0, T, r, sigma, dt, n_steps, n_simulations):\n",
    "    # Initialize the array for storing simulated stock price paths\n",
    "    S = np.zeros((n_steps + 1, n_simulations))\n",
    "    S[0] = S0\n",
    "    # Set the seed for reproducibility\n",
    "    np.random.seed(42)\n",
    "    # Simulate price paths\n",
    "    for t in range(1, n_steps + 1):\n",
    "        Z = np.random.standard_normal(n_simulations)\n",
    "        S[t] = S[t-1] * np.exp((r - 0.5 * sigma**2) * dt + sigma * np.sqrt(dt) * Z)\n",
    "    \n",
    "    return S\n",
    "\n",
    "### Display Price Paths\n",
    "price_paths(s_0, T, r, sigma, dt, n_steps, n_simulations)\n"
   ]
  },
  {
   "cell_type": "code",
   "execution_count": null,
   "metadata": {},
   "outputs": [],
   "source": [
    "### Plot Price Paths\n"
   ]
  },
  {
   "cell_type": "code",
   "execution_count": null,
   "metadata": {},
   "outputs": [],
   "source": [
    "### Calculate option Premiums for Lookback and Barrier options\n",
    "\n"
   ]
  }
 ],
 "metadata": {
  "kernelspec": {
   "display_name": "base",
   "language": "python",
   "name": "python3"
  },
  "language_info": {
   "codemirror_mode": {
    "name": "ipython",
    "version": 3
   },
   "file_extension": ".py",
   "mimetype": "text/x-python",
   "name": "python",
   "nbconvert_exporter": "python",
   "pygments_lexer": "ipython3",
   "version": "3.8.18"
  }
 },
 "nbformat": 4,
 "nbformat_minor": 2
}
